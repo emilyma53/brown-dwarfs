{
 "cells": [
  {
   "cell_type": "code",
   "execution_count": 1,
   "metadata": {},
   "outputs": [
    {
     "data": {
      "text/plain": [
       "('Name',\n",
       " 'RAJ2000',\n",
       " 'DEJ2000',\n",
       " 'Notes',\n",
       " 'Young?',\n",
       " 'vsini (km/s)',\n",
       " 'Per (hrs)',\n",
       " 'Var',\n",
       " 'Rotation Ref',\n",
       " 'SpT',\n",
       " 'Jmag',\n",
       " 'Gravity',\n",
       " 'Gravity Ref',\n",
       " 'Index')"
      ]
     },
     "execution_count": 1,
     "metadata": {},
     "output_type": "execute_result"
    }
   ],
   "source": [
    "from astroplan import Observer, FixedTarget\n",
    "from astropy.time import Time\n",
    "import numpy as np\n",
    "from astropy.coordinates import SkyCoord\n",
    "import astropy.units as u\n",
    "from astroplan import is_observable, is_always_observable, months_observable\n",
    "from astroplan import (AltitudeConstraint, AirmassConstraint,\n",
    "                       AtNightConstraint)\n",
    "from astropy.table import Table\n",
    "from datascience import *\n",
    "bd = Table().read_table('bdcandidates.csv')\n"
   ]
  },
  {
   "cell_type": "code",
   "execution_count": 14,
   "metadata": {},
   "outputs": [
    {
     "name": "stdout",
     "output_type": "stream",
     "text": [
      "45\n"
     ]
    }
   ],
   "source": [
    "target_table = bd.select(\"Name\")\n",
    "ra = make_array()\n",
    "dec = make_array()\n",
    "for i in range(bd.num_rows):\n",
    "    coord = SkyCoord(bd[\"RAJ2000\"][i] + \" \" + bd[\"DEJ2000\"][i], unit=(u.hourangle, u.deg))\n",
    "    ra = np.append(ra, coord.ra.deg)\n",
    "    dec = np.append(dec, coord.dec.deg)\n",
    "    \n",
    "target_table.append_column(\"ra\", ra)\n",
    "target_table.append_column(\"dec\", dec)\n",
    "target_table = Table().read_table('target_table.csv')\n",
    "print(target_table.num_rows)\n",
    "targets = []\n",
    "for i in range(target_table.num_rows):\n",
    "    ra = target_table[1][i]\n",
    "    dec = target_table[2][i]\n",
    "    name = target_table[0][i]\n",
    "    targets.append(FixedTarget(coord=SkyCoord(ra=ra*u.deg, dec=dec*u.deg), name=name))\n"
   ]
  },
  {
   "cell_type": "code",
   "execution_count": 17,
   "metadata": {},
   "outputs": [],
   "source": [
    "palomar = Observer.at_site(\"Palomar\")\n",
    "time_range = Time([\"2015-08-01 06:00\", \"2015-08-01 12:00\"])\n",
    "constraints = [AirmassConstraint(2), AtNightConstraint.twilight_civil()]\n",
    "ever_observable = is_observable(constraints, palomar, targets, time_range=time_range)\n",
    "always_observable = is_always_observable(constraints, palomar, targets, time_range=time_range)\n",
    "best_months = months_observable(constraints, palomar, targets)"
   ]
  },
  {
   "cell_type": "code",
   "execution_count": 18,
   "metadata": {},
   "outputs": [
    {
     "data": {
      "text/html": [
       "<i>Table length=45</i>\n",
       "<table id=\"table4827950496\" class=\"table-striped table-bordered table-condensed\">\n",
       "<thead><tr><th>targets</th><th>ever_observable</th><th>always_observable</th><th>best_months</th></tr></thead>\n",
       "<thead><tr><th>str25</th><th>bool</th><th>bool</th><th>object</th></tr></thead>\n",
       "<tr><td>SIMP J013656.5+093347.3</td><td>True</td><td>False</td><td>{1, 2, 3, 6, 7, 8, 9, 10, 11, 12}</td></tr>\n",
       "<tr><td>2MASS J03140344+1603056</td><td>True</td><td>False</td><td>{1, 2, 3, 7, 8, 9, 10, 11, 12}</td></tr>\n",
       "<tr><td>2MASS J05233822-1403022</td><td>False</td><td>False</td><td>{1, 2, 3, 4, 8, 9, 10, 11, 12}</td></tr>\n",
       "<tr><td>2MASS J05591914-1404488</td><td>False</td><td>False</td><td>{1, 2, 3, 4, 9, 10, 11, 12}</td></tr>\n",
       "<tr><td>2MASS J06023045+3910592</td><td>False</td><td>False</td><td>{1, 2, 3, 4, 5, 7, 8, 9, 10, 11, 12}</td></tr>\n",
       "<tr><td>2MASS J07003664+3157266</td><td>False</td><td>False</td><td>{1, 2, 3, 4, 5, 8, 9, 10, 11, 12}</td></tr>\n",
       "<tr><td>2MASS J08283419-1309198</td><td>False</td><td>False</td><td>{1, 2, 3, 4, 5, 10, 11, 12}</td></tr>\n",
       "<tr><td>2MASS J08354256-0819237</td><td>False</td><td>False</td><td>{1, 2, 3, 4, 5, 9, 10, 11, 12}</td></tr>\n",
       "<tr><td>USNO-B1.0 0830-00245706</td><td>False</td><td>False</td><td>{1, 2, 3, 4, 5, 10, 11, 12}</td></tr>\n",
       "<tr><td>2MASS J09211410-2104446</td><td>False</td><td>False</td><td>{1, 2, 3, 4, 5, 10, 11, 12}</td></tr>\n",
       "<tr><td>...</td><td>...</td><td>...</td><td>...</td></tr>\n",
       "<tr><td>2MASS J18283572−4849046</td><td>False</td><td>False</td><td>set()</td></tr>\n",
       "<tr><td>2MASS J21392676+0220226</td><td>True</td><td>True</td><td>{1, 4, 5, 6, 7, 8, 9, 10, 11, 12}</td></tr>\n",
       "<tr><td>2MASS J22282889−4310262</td><td>False</td><td>False</td><td>set()</td></tr>\n",
       "<tr><td>2MASS J00452143+1634446</td><td>True</td><td>False</td><td>{1, 2, 5, 6, 7, 8, 9, 10, 11, 12}</td></tr>\n",
       "<tr><td>2MASS J04473039-1216155</td><td>False</td><td>False</td><td>{1, 2, 3, 8, 9, 10, 11, 12}</td></tr>\n",
       "<tr><td>2MASS J05012406-0010452</td><td>False</td><td>False</td><td>{1, 2, 3, 4, 8, 9, 10, 11, 12}</td></tr>\n",
       "<tr><td>2MASS J14252798-3650229</td><td>False</td><td>False</td><td>set()</td></tr>\n",
       "<tr><td>2MASS J20025073−0521524</td><td>True</td><td>False</td><td>{3, 4, 5, 6, 7, 8, 9, 10, 11, 12}</td></tr>\n",
       "<tr><td>2MASS J21140802-2251358</td><td>True</td><td>False</td><td>{5, 6, 7, 8, 9, 10, 11, 12}</td></tr>\n",
       "<tr><td>2MASS J22443167+2043433</td><td>True</td><td>True</td><td>{1, 2, 4, 5, 6, 7, 8, 9, 10, 11, 12}</td></tr>\n",
       "</table>"
      ],
      "text/plain": [
       "<Table length=45>\n",
       "        targets          ...             best_months             \n",
       "         str25           ...                object               \n",
       "------------------------ ... ------------------------------------\n",
       " SIMP J013656.5+093347.3 ...    {1, 2, 3, 6, 7, 8, 9, 10, 11, 12}\n",
       "2MASS J03140344+1603056  ...       {1, 2, 3, 7, 8, 9, 10, 11, 12}\n",
       " 2MASS J05233822-1403022 ...       {1, 2, 3, 4, 8, 9, 10, 11, 12}\n",
       " 2MASS J05591914-1404488 ...          {1, 2, 3, 4, 9, 10, 11, 12}\n",
       " 2MASS J06023045+3910592 ... {1, 2, 3, 4, 5, 7, 8, 9, 10, 11, 12}\n",
       " 2MASS J07003664+3157266 ...    {1, 2, 3, 4, 5, 8, 9, 10, 11, 12}\n",
       " 2MASS J08283419-1309198 ...          {1, 2, 3, 4, 5, 10, 11, 12}\n",
       " 2MASS J08354256-0819237 ...       {1, 2, 3, 4, 5, 9, 10, 11, 12}\n",
       " USNO-B1.0 0830-00245706 ...          {1, 2, 3, 4, 5, 10, 11, 12}\n",
       " 2MASS J09211410-2104446 ...          {1, 2, 3, 4, 5, 10, 11, 12}\n",
       "                     ... ...                                  ...\n",
       " 2MASS J18283572−4849046 ...                                set()\n",
       " 2MASS J21392676+0220226 ...    {1, 4, 5, 6, 7, 8, 9, 10, 11, 12}\n",
       " 2MASS J22282889−4310262 ...                                set()\n",
       " 2MASS J00452143+1634446 ...    {1, 2, 5, 6, 7, 8, 9, 10, 11, 12}\n",
       " 2MASS J04473039-1216155 ...          {1, 2, 3, 8, 9, 10, 11, 12}\n",
       " 2MASS J05012406-0010452 ...       {1, 2, 3, 4, 8, 9, 10, 11, 12}\n",
       " 2MASS J14252798-3650229 ...                                set()\n",
       " 2MASS J20025073−0521524 ...    {3, 4, 5, 6, 7, 8, 9, 10, 11, 12}\n",
       " 2MASS J21140802-2251358 ...          {5, 6, 7, 8, 9, 10, 11, 12}\n",
       " 2MASS J22443167+2043433 ... {1, 2, 4, 5, 6, 7, 8, 9, 10, 11, 12}"
      ]
     },
     "execution_count": 18,
     "metadata": {},
     "output_type": "execute_result"
    }
   ],
   "source": [
    "from astropy.table import Table\n",
    "import numpy as np\n",
    "observability_table = Table()\n",
    "observability_table['targets'] = [target.name for target in targets]\n",
    "observability_table['ever_observable'] = ever_observable\n",
    "observability_table['always_observable'] = always_observable\n",
    "observability_table['best_months'] = best_months\n",
    "observability_table"
   ]
  },
  {
   "cell_type": "code",
   "execution_count": null,
   "metadata": {},
   "outputs": [],
   "source": []
  }
 ],
 "metadata": {
  "kernelspec": {
   "display_name": "Python 3",
   "language": "python",
   "name": "python3"
  },
  "language_info": {
   "codemirror_mode": {
    "name": "ipython",
    "version": 3
   },
   "file_extension": ".py",
   "mimetype": "text/x-python",
   "name": "python",
   "nbconvert_exporter": "python",
   "pygments_lexer": "ipython3",
   "version": "3.7.3"
  }
 },
 "nbformat": 4,
 "nbformat_minor": 2
}
