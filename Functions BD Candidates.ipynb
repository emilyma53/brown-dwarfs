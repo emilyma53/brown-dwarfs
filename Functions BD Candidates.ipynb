{
 "cells": [
  {
   "cell_type": "code",
   "execution_count": 18,
   "metadata": {},
   "outputs": [
    {
     "data": {
      "text/plain": [
       "16"
      ]
     },
     "execution_count": 18,
     "metadata": {},
     "output_type": "execute_result"
    }
   ],
   "source": [
    "from astroquery.astroquery.simbad import Simbad\n",
    "from astroquery.astroquery.vizier import Vizier\n",
    "from datascience import *\n",
    "import numpy as np\n",
    "bd = Table()\n",
    "bd = Table().read_table('/Users/emilyma/Desktop/AstroResearch/candidates.csv')\n",
    "bd\n",
    "cruz = Table().read_table('/Users/emilyma/Desktop/AstroResearch/cruz.csv')\n",
    "cruz.num_rows"
   ]
  },
  {
   "cell_type": "code",
   "execution_count": 19,
   "metadata": {},
   "outputs": [],
   "source": [
    "def addRA():\n",
    "    for i in range(bd.num_rows):\n",
    "        this_row = bd.take(i)\n",
    "        if this_row.column(\"RAJ2000\")[0] == 'nan':\n",
    "            ra = Simbad.query_object(this_row[\"Name\"][0])\n",
    "            ra = ra[\"RA\"]\n",
    "            if ra[0][0] == '+':\n",
    "                bd[1][i] = ra[0][1:]\n",
    "            else:\n",
    "                bd[1][i] = ra[0]\n",
    "            \n",
    "def addDEC():\n",
    "    for i in range(bd.num_rows):\n",
    "        this_row = bd.take(i)\n",
    "        if this_row.column(\"DEJ2000\")[0] == 'nan':\n",
    "            dec = Simbad.query_object(this_row[\"Name\"][0])\n",
    "            dec = dec[\"DEC\"]\n",
    "            if dec[0][0] == '+':\n",
    "                bd[2][i] = dec[0][1:]\n",
    "            else:\n",
    "                bd[2][i] = dec[0]\n",
    "addRA()\n",
    "addDEC()"
   ]
  },
  {
   "cell_type": "code",
   "execution_count": 20,
   "metadata": {},
   "outputs": [],
   "source": [
    "object = Table()\n",
    "object = Simbad.query_object('2MASS J05012406-0010452')\n",
    "object\n",
    "bd.take(1)[\"Name\"].dtype\n",
    "bd.take(1)[\"Notes\"].dtype\n",
    "bd.to_df().to_csv('bdcandidates.csv', index = False)"
   ]
  },
  {
   "cell_type": "code",
   "execution_count": 4,
   "metadata": {},
   "outputs": [],
   "source": [
    "def joinCruz():\n",
    "    for i in range(cruz.num_rows):\n",
    "        this_row = cruz.take(i)\n",
    "        if bd.where(\"Name\", are.equal_to(this_row[\"Name\"][0])).num_rows == 1: #contains the object\n",
    "            index = bd.where(\"Name\", are.equal_to(this_row[\"Name\"][0]))[\"Index\"][0]\n",
    "            print(index + 100)\n",
    "            if bd[\"Notes\"][index] == \"nan\":\n",
    "                bd[\"Notes\"][index] = cruz[\"Notes\"][i]\n",
    "            else:                    \n",
    "                bd[\"Notes\"][index] += cruz[\"Notes\"][i]\n",
    "                print(\"hi\")\n",
    "        else: #does not contain object\n",
    "            bd.append(this_row)\n",
    "            "
   ]
  },
  {
   "cell_type": "code",
   "execution_count": 6,
   "metadata": {},
   "outputs": [
    {
     "name": "stdout",
     "output_type": "stream",
     "text": [
      "111\n",
      "139\n",
      "hi\n",
      "141\n",
      "hi\n"
     ]
    },
    {
     "data": {
      "text/plain": [
       "'Intermediate gravity Cruz 2009;Signif'"
      ]
     },
     "execution_count": 6,
     "metadata": {},
     "output_type": "execute_result"
    }
   ],
   "source": [
    "joinCruz()\n",
    "bd.take(58)\n",
    "bd.take(11)\n",
    "bd.take(39)\n",
    "bd.take(41)\n",
    "temp = bd[\"Notes\"][38][:]\n",
    "bd[\"Notes\"][38] = bd[\"Notes\"][58]\n",
    "bd[\"Notes\"][38] += temp\n",
    "bd[\"Notes\"][38] = \"Intermediate gravity Cruz 2009;Significant\"\n",
    "test = make_array(\"Notes\",\"Intermediate gravity Cruz 2009;Significant\", str)\n",
    "bd[\"Notes\"][38] = test[0]\n",
    "# bd.take(39)[\"Notes\"] = test\n",
    "# test\n",
    "#formats.Formatter(4, 300)\n",
    "bd[\"Notes\"][38] = test[1]\n",
    "bd[\"Notes\"][38]\n"
   ]
  },
  {
   "cell_type": "code",
   "execution_count": 7,
   "metadata": {},
   "outputs": [
    {
     "name": "stdout",
     "output_type": "stream",
     "text": [
      "Significant variability Vos 2018;\n"
     ]
    }
   ],
   "source": [
    "addRA()\n",
    "addDEC()\n",
    "print(bd.take(39)[\"Notes\"][0])\n",
    "bd[\"Notes\"][39]\n",
    "index = int(bd.take(29)[\"Index\"][0])"
   ]
  },
  {
   "cell_type": "code",
   "execution_count": 23,
   "metadata": {},
   "outputs": [],
   "source": [
    "def convert_ra_degrees():\n",
    "    for i in range(bd.num_rows):\n",
    "        this_row = bd.take(i)\n",
    "        if bd[1][i][0] == '-':\n",
    "            print(\"hi\")\n",
    "        else:\n",
    "            if bd[1][i][0] == 0:\n",
    "                h = bd[1][i][1]\n",
    "            else:\n",
    "                h = bd[1][i][:2]\n",
    "            if bd[1][i][3] == 0:\n",
    "                m = bd[1][i][4]\n",
    "            else:\n",
    "                m = bd[1][i][3:5]\n",
    "            if bd[1][i][6] == 0:\n",
    "                s = bd[1][i][7:]\n",
    "            else:\n",
    "                s = bd[1][i][6:]\n",
    "            sum = (int(h) * 15) + (int(m) / 4) + (float(s) / 240)\n",
    "            print(sum)\n",
    "            \n",
    "def convert_dec_degrees():\n",
    "    for i in range(bd.num_rows):\n",
    "        this_row = bd.take(i)\n",
    "        if bd[2][i][0] == '-':\n",
    "            print(\"negative\")\n",
    "            print(i)\n",
    "        else:\n",
    "            if bd[2][i][0] == 0:\n",
    "                h = bd[2][i][1]\n",
    "            else:\n",
    "                h = bd[2][i][:2]\n",
    "            if bd[2][i][3] == 0:\n",
    "                m = bd[2][i][4]\n",
    "            else:\n",
    "                m = bd[2][i][3:5]\n",
    "            if bd[2][i][6] == 0:\n",
    "                s = bd[2][i][7:]\n",
    "            else:\n",
    "                s = bd[2][i][6:]\n",
    "            sum = (int(h) * 15) + (int(m) / 4) + (float(s) / 240)\n",
    "            print(sum)"
   ]
  },
  {
   "cell_type": "code",
   "execution_count": 24,
   "metadata": {
    "scrolled": true
   },
   "outputs": [
    {
     "name": "stdout",
     "output_type": "stream",
     "text": [
      "275.29333333333335\n",
      "143.44720833333332\n",
      "240.77333333333334\n",
      "negative\n",
      "3\n",
      "negative\n",
      "4\n",
      "587.7466666666667\n",
      "479.36083333333335\n",
      "negative\n",
      "7\n",
      "negative\n",
      "8\n",
      "negative\n",
      "9\n",
      "negative\n",
      "10\n",
      "876.43875\n",
      "negative\n",
      "12\n",
      "17.991666666666667\n",
      "44.3325\n",
      "288.1475\n",
      "248.29791666666668\n",
      "292.3125\n",
      "381.33166666666665\n",
      "200.275\n",
      "negative\n",
      "20\n",
      "negative\n",
      "21\n",
      "negative\n",
      "22\n",
      "negative\n",
      "23\n",
      "506.070513001375\n",
      "410.34708333333333\n",
      "753.8816666666667\n",
      "213.50352820792082\n",
      "602.7783333333333\n",
      "negative\n",
      "29\n",
      "negative\n",
      "30\n",
      "negative\n",
      "31\n",
      "491.85231\n",
      "negative\n",
      "33\n",
      "negative\n",
      "34\n",
      "53.898645\n",
      "negative\n",
      "36\n",
      "35.09457\n",
      "negative\n",
      "38\n",
      "248.68623\n",
      "negative\n",
      "40\n",
      "negative\n",
      "41\n",
      "negative\n",
      "42\n",
      "negative\n",
      "43\n",
      "negative\n",
      "44\n",
      "31.180425\n",
      "negative\n",
      "46\n",
      "negative\n",
      "47\n",
      "negative\n",
      "48\n",
      "negative\n",
      "49\n",
      "negative\n",
      "50\n",
      "negative\n",
      "51\n",
      "negative\n",
      "52\n",
      "negative\n",
      "53\n",
      "negative\n",
      "54\n",
      "negative\n",
      "55\n",
      "447.2024\n",
      "755.7477\n",
      "173.43248333333332\n"
     ]
    }
   ],
   "source": [
    "# convert_ra_degrees()\n",
    "convert_dec_degrees()"
   ]
  },
  {
   "cell_type": "code",
   "execution_count": 25,
   "metadata": {},
   "outputs": [
    {
     "data": {
      "text/plain": [
       "'-'"
      ]
     },
     "execution_count": 25,
     "metadata": {},
     "output_type": "execute_result"
    }
   ],
   "source": [
    "bd[2][4][0]\n",
    "bd[2][54][0]"
   ]
  },
  {
   "cell_type": "code",
   "execution_count": 139,
   "metadata": {
    "scrolled": true
   },
   "outputs": [
    {
     "data": {
      "text/plain": [
       "'Intermediate gravity Cruz 2009;Significant'"
      ]
     },
     "execution_count": 139,
     "metadata": {},
     "output_type": "execute_result"
    }
   ],
   "source": [
    "test = make_array(\"Intermediate gravity Cruz 2009;Significant\", str)\n",
    "test[0]"
   ]
  },
  {
   "cell_type": "code",
   "execution_count": 163,
   "metadata": {},
   "outputs": [],
   "source": [
    "bd.to_df().to_csv('candidates1.csv', index = False)"
   ]
  },
  {
   "cell_type": "code",
   "execution_count": 7,
   "metadata": {},
   "outputs": [
    {
     "data": {
      "text/html": [
       "<table border=\"1\" class=\"dataframe\">\n",
       "    <thead>\n",
       "        <tr>\n",
       "            <th>Name</th>\n",
       "        </tr>\n",
       "    </thead>\n",
       "    <tbody>\n",
       "        <tr>\n",
       "            <td>2MASS J00361617+1821104 </td>\n",
       "        </tr>\n",
       "        <tr>\n",
       "            <td>SIMP J013656.5+093347.3 </td>\n",
       "        </tr>\n",
       "        <tr>\n",
       "            <td>2MASS J03140344+1603056 </td>\n",
       "        </tr>\n",
       "        <tr>\n",
       "            <td>2MASS J05233822-1403022 </td>\n",
       "        </tr>\n",
       "        <tr>\n",
       "            <td>2MASS J05591914-1404488 </td>\n",
       "        </tr>\n",
       "        <tr>\n",
       "            <td>2MASS J06023045+3910592 </td>\n",
       "        </tr>\n",
       "        <tr>\n",
       "            <td>2MASS J07003664+3157266 </td>\n",
       "        </tr>\n",
       "        <tr>\n",
       "            <td>2MASS J08283419-1309198 </td>\n",
       "        </tr>\n",
       "        <tr>\n",
       "            <td>2MASS J08354256-0819237 </td>\n",
       "        </tr>\n",
       "        <tr>\n",
       "            <td>USNO-B1.0 0830-00245706 </td>\n",
       "        </tr>\n",
       "    </tbody>\n",
       "</table>\n",
       "<p>... (49 rows omitted)</p>"
      ],
      "text/plain": [
       "Name\n",
       "2MASS J00361617+1821104\n",
       "SIMP J013656.5+093347.3\n",
       "2MASS J03140344+1603056\n",
       "2MASS J05233822-1403022\n",
       "2MASS J05591914-1404488\n",
       "2MASS J06023045+3910592\n",
       "2MASS J07003664+3157266\n",
       "2MASS J08283419-1309198\n",
       "2MASS J08354256-0819237\n",
       "USNO-B1.0 0830-00245706\n",
       "... (49 rows omitted)"
      ]
     },
     "execution_count": 7,
     "metadata": {},
     "output_type": "execute_result"
    }
   ],
   "source": [
    "bd.select(\"Name\")"
   ]
  },
  {
   "cell_type": "code",
   "execution_count": null,
   "metadata": {},
   "outputs": [],
   "source": []
  }
 ],
 "metadata": {
  "kernelspec": {
   "display_name": "Python 3",
   "language": "python",
   "name": "python3"
  },
  "language_info": {
   "codemirror_mode": {
    "name": "ipython",
    "version": 3
   },
   "file_extension": ".py",
   "mimetype": "text/x-python",
   "name": "python",
   "nbconvert_exporter": "python",
   "pygments_lexer": "ipython3",
   "version": "3.7.3"
  }
 },
 "nbformat": 4,
 "nbformat_minor": 2
}
