{
 "cells": [
  {
   "cell_type": "markdown",
   "metadata": {},
   "source": [
    "# Ma's Brown Dwarf Database\n",
    "## Created by Emily Ma and Rebecca Jensen-Clem"
   ]
  },
  {
   "cell_type": "markdown",
   "metadata": {},
   "source": [
    "This database currently contains information on 92 brown dwarfs compiled from various research papers during the summer of 2019. The objects listed in this database show strong evidence for measurements of polarization. These candidates have shown signs of asymmetry in previous research papers through measurements of low surface gravity, fast rotation periods, previous measurements of spectral variability, and other indicators.\n"
   ]
  },
  {
   "cell_type": "markdown",
   "metadata": {},
   "source": [
    "### Setting Up the Database\n",
    "\n",
    "The contents of the database can be pulled from https://github.com/emilyma53/brown-dwarfs. The 'brownDwarfCandidates.csv' contains information on the 92 objects. To query the database, the datascience module (created by the UC Berkeley Data Science Department) will need to be installed from https://github.com/data-8/datascience. Additionally, astroplan, astropy, and astroquery will need to be installed for extra functionionality in calculating the viewing constraints for each object.\n",
    "\n",
    "\n",
    "*Note: Make sure the needed modules and files are in the current working directory, otherwise specify the path to the file.\n",
    "\n",
    "bd = Table.read_table('/Example/path')"
   ]
  },
  {
   "cell_type": "code",
   "execution_count": null,
   "metadata": {},
   "outputs": [],
   "source": [
    "from datascience import *\n",
    "import numpy as np\n",
    "bd = Table()\n",
    "bd = Table.read_table('brownDwarfCandidates.csv')\n",
    "bd"
   ]
  },
  {
   "cell_type": "markdown",
   "metadata": {},
   "source": [
    "\n",
    "### How to Query the Database\n",
    "\n",
    "The table is currently sorted with fourteen columns. \n",
    "\n",
    "Note: For gravity and variability measurements, view the papers listed in the 'gravity ref' and 'rotation ref' columns, respectively, for clarification on units. Not all cells in the table have measurements.\n",
    "\n",
    "- To view an array of all of the column labels, use the command Table.labels\n",
    "\n",
    "- To only view certain columns, use Table.select('label1', 'label2', etc.)\n",
    "\n",
    "The command 'select' creates a new table with the selected columns.\n",
    "\n",
    "<br>"
   ]
  },
  {
   "cell_type": "code",
   "execution_count": null,
   "metadata": {},
   "outputs": [],
   "source": [
    "print(bd.labels)\n",
    "bd.select('Name','Notes')"
   ]
  },
  {
   "cell_type": "code",
   "execution_count": null,
   "metadata": {},
   "outputs": [],
   "source": [
    "bd_period = bd.select('Name', 'Per (hrs)', 'Rotation Ref')\n",
    "bd_period"
   ]
  },
  {
   "cell_type": "markdown",
   "metadata": {},
   "source": [
    "* You can also index into the table as normal"
   ]
  },
  {
   "cell_type": "code",
   "execution_count": null,
   "metadata": {},
   "outputs": [],
   "source": [
    "bd[3][4]"
   ]
  },
  {
   "cell_type": "markdown",
   "metadata": {},
   "source": [
    "### Filtering the Database\n",
    "\n",
    "- You can filter the table using Table.where(column_label, predicate)\n",
    "\n",
    "Some helpful predicates include:\n",
    "* are.equal_to(x)\n",
    "* are.above(x), are.above_or_equal_to(x)\n",
    "* are.below(x), are.below_or_equal_to(x)\n",
    "* are.between(x, y), are.between_or_equal_to(x, y)\n",
    "* are.containing(s) — checks for strings that contain the substring s\n",
    "* are.contained_in(s) — checks if the string s is contained in the string or column array\n",
    "\n",
    "\n",
    "Run the cells below to see examples on how to use these predicates:\n",
    "\n",
    "<br>"
   ]
  },
  {
   "cell_type": "code",
   "execution_count": null,
   "metadata": {},
   "outputs": [],
   "source": [
    "bd.where('Name', are.equal_to('2MASS J00361617+1821104'))"
   ]
  },
  {
   "cell_type": "code",
   "execution_count": null,
   "metadata": {},
   "outputs": [],
   "source": [
    "bd.where('Name', are.containing('J00361617'))"
   ]
  },
  {
   "cell_type": "code",
   "execution_count": null,
   "metadata": {},
   "outputs": [],
   "source": [
    "bd1 = bd.where('Notes', are.containing('Radigan 2014'))\n",
    "print(bd1.num_rows)\n",
    "bd1.select('Name', 'Notes')"
   ]
  },
  {
   "cell_type": "code",
   "execution_count": null,
   "metadata": {},
   "outputs": [],
   "source": [
    "bd2 = bd.where('Jmag', are.below(15))\n",
    "bd2 = bd2.select('Name', 'Jmag')\n",
    "bd2"
   ]
  },
  {
   "cell_type": "markdown",
   "metadata": {},
   "source": [
    "### Sorting the Database\n",
    "- To sort the table based on the given column values, use Table.sort(label, descending=false)\n",
    "\n",
    "*change descending to True to sort in descending order\n",
    "\n",
    "<br>"
   ]
  },
  {
   "cell_type": "code",
   "execution_count": null,
   "metadata": {},
   "outputs": [],
   "source": [
    "bd2.sort('Jmag')"
   ]
  },
  {
   "cell_type": "code",
   "execution_count": null,
   "metadata": {},
   "outputs": [],
   "source": [
    "bd.sort('Jmag', descending=True)"
   ]
  },
  {
   "cell_type": "markdown",
   "metadata": {},
   "source": [
    "### Other Useful Functions\n",
    "\n",
    "A few more useful functionalities of the datascience module are:\n",
    "\n",
    "* Table.show(num_rows) — shows specified top num_rows of the table\n",
    "* Table.to_df( ).to_csv(file_name, index = False) — saves the given table to the csv file name/path\n",
    "\n",
    "\n",
    "For a more detailed documentation of the datascience module and other functions, see http://data8.org/datascience/index.html.\n",
    "\n"
   ]
  },
  {
   "cell_type": "code",
   "execution_count": null,
   "metadata": {},
   "outputs": [],
   "source": [
    "bd.show(bd.num_rows)"
   ]
  },
  {
   "cell_type": "code",
   "execution_count": null,
   "metadata": {},
   "outputs": [],
   "source": [
    "# bd.to_df().to_csv('brownDwarfCandidates.csv', index = False)"
   ]
  },
  {
   "cell_type": "markdown",
   "metadata": {},
   "source": [
    "<br>\n",
    "\n",
    "* Other useful functions that I have written myself are addRA(table) and addDEC(table), which adds any missing RA and DEC values in the form of '-63 25 05.595' and '16 48 15.6'. This requires the astroquery package as it queries the object in Simbad and uses the listed RA and DEC values. Can be helpful for filling in these values after adding more object names to the table.\n",
    "* Numpy functions also work on each of the columns.\n",
    "\n",
    "<br>"
   ]
  },
  {
   "cell_type": "code",
   "execution_count": null,
   "metadata": {},
   "outputs": [],
   "source": [
    "from astroquery.simbad import Simbad\n",
    "addRA(bd)\n",
    "addDEC(bd)"
   ]
  },
  {
   "cell_type": "code",
   "execution_count": null,
   "metadata": {},
   "outputs": [],
   "source": [
    "#**/ adds the Simbad RAJ2000 (h m s) to all of the rows in the first column of bd \n",
    "# if the row does not already have a value.\n",
    "# \n",
    "\n",
    "def addRA(table):\n",
    "    for i in range(table.num_rows):\n",
    "        this_row = table.take(i)\n",
    "        if this_row.column(\"RAJ2000\")[0] == 'nan':\n",
    "            ra = Simbad.query_object(this_row[\"Name\"][0])\n",
    "            ra = ra[\"RA\"]\n",
    "            if ra[0][0] == '+':\n",
    "                table[1][i] = ra[0][1:]\n",
    "            else:\n",
    "                table[1][i] = ra[0]\n",
    "                \n",
    "\n",
    "#**/ adds the Simbad DEJ2000 (h m s) to all of the rows in the first column of bd\n",
    "# if the row does not already have a value            \n",
    "def addDEC(table):\n",
    "    for i in range(table.num_rows):\n",
    "        this_row = table.take(i)\n",
    "        if this_row.column(\"DEJ2000\")[0] == 'nan':\n",
    "            dec = Simbad.query_object(this_row[\"Name\"][0])\n",
    "            dec = dec[\"DEC\"]\n",
    "            if dec[0][0] == '+':\n",
    "                table[2][i] = dec[0][1:]\n",
    "            else:\n",
    "                table[2][i] = dec[0]\n"
   ]
  },
  {
   "cell_type": "markdown",
   "metadata": {},
   "source": [
    "### Viewing Constraints for Brown Dwarf Candidates\n",
    "\n",
    "Apart from the main database, you can also access a table of the viewing constraints for each of the targets. \n",
    "\n",
    "The 'observabilty_table.csv'currently contains the viewing constraints for the 92\n",
    "objects in 'brownDwarfCandidates.csv'for an arbitrary date. The code below is used to update 'observability_table.csv' based on the information in 'brownDwarfCandidates.csv' and constraints defined by the user.\n",
    "\n",
    "This requires the astroplan and astropy modules. \n",
    "\n",
    "<br>\n"
   ]
  },
  {
   "cell_type": "code",
   "execution_count": null,
   "metadata": {},
   "outputs": [],
   "source": [
    "import numpy as np\n",
    "from astroplan import (Observer, FixedTarget, is_observable, is_always_observable, months_observable, \n",
    "AltitudeConstraint, AirmassConstraint, AtNightConstraint)\n",
    "from astropy.time import Time\n",
    "from astropy.coordinates import SkyCoord\n",
    "import astropy.units as u\n",
    "from astroplan import download_IERS_A\n",
    "from datascience import *\n",
    "bd = Table().read_table('brownDwarfCandidates.csv')\n",
    "#download_IERS_A()"
   ]
  },
  {
   "cell_type": "markdown",
   "metadata": {},
   "source": [
    "*If there is an error, \"WARNING: OldEarthOrientationDataWarning\", then uncomment the 'download_IERS_A()' and re-run the above cell.\n",
    "\n"
   ]
  },
  {
   "cell_type": "code",
   "execution_count": null,
   "metadata": {},
   "outputs": [],
   "source": [
    "target_table = bd.select(\"Name\")\n",
    "ra = make_array()\n",
    "dec = make_array()\n",
    "for i in range(bd.num_rows):\n",
    "    coord = SkyCoord(bd[\"RAJ2000\"][i] + \" \" + bd[\"DEJ2000\"][i], unit=(u.hourangle, u.deg))\n",
    "    ra = np.append(ra, coord.ra.deg)\n",
    "    dec = np.append(dec, coord.dec.deg)\n",
    "target_table.append_column(\"ra\", ra)\n",
    "target_table.append_column(\"dec\", dec)\n",
    "targets = []\n",
    "for i in range(target_table.num_rows):\n",
    "    ra = target_table[1][i]\n",
    "    dec = target_table[2][i]\n",
    "    name = target_table[0][i]\n",
    "    targets.append(FixedTarget(coord=SkyCoord(ra=ra*u.deg, dec=dec*u.deg), name=name))"
   ]
  },
  {
   "cell_type": "markdown",
   "metadata": {},
   "source": [
    "Change the constraints below as needed.\n",
    "\n",
    "* Currently assumes observing from Palomar observatory on 8/1/2015 with airmass limit of 2\n",
    "\n",
    "More information on setting various constraints can be found at https://astroplan.readthedocs.io/en/latest/tutorials/constraints.html\n",
    "\n",
    "*The observability_table may take a while to load.\n"
   ]
  },
  {
   "cell_type": "code",
   "execution_count": null,
   "metadata": {},
   "outputs": [],
   "source": [
    "palomar = Observer.at_site(\"Palomar\")\n",
    "time_range = Time([\"2015-08-01 06:00\", \"2015-08-01 12:00\"])\n",
    "constraints = [AirmassConstraint(2), AtNightConstraint.twilight_civil()]"
   ]
  },
  {
   "cell_type": "code",
   "execution_count": null,
   "metadata": {},
   "outputs": [],
   "source": [
    "ever_observable = is_observable(constraints, palomar, targets, time_range=time_range)\n",
    "always_observable = is_always_observable(constraints, palomar, targets, time_range=time_range)\n",
    "best_months = months_observable(constraints, palomar, targets)\n",
    "observability_table = Table()\n",
    "observability_table['targets'] = [target.name for target in targets]\n",
    "observability_table['ever_observable'] = ever_observable\n",
    "observability_table['always_observable'] = always_observable\n",
    "observability_table['best_months'] = best_months\n",
    "observability_table.to_df().to_csv('observability_table.csv', index = False)\n",
    "observability_table"
   ]
  }
 ],
 "metadata": {
  "kernelspec": {
   "display_name": "Python 3",
   "language": "python",
   "name": "python3"
  },
  "language_info": {
   "codemirror_mode": {
    "name": "ipython",
    "version": 3
   },
   "file_extension": ".py",
   "mimetype": "text/x-python",
   "name": "python",
   "nbconvert_exporter": "python",
   "pygments_lexer": "ipython3",
   "version": "3.7.3"
  }
 },
 "nbformat": 4,
 "nbformat_minor": 2
}
